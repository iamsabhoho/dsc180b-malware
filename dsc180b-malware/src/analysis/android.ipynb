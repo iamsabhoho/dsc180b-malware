{
 "cells": [
  {
   "cell_type": "code",
   "execution_count": 1,
   "metadata": {},
   "outputs": [],
   "source": [
    "import pandas as pd\n",
    "import andro_analysis\n",
    "import os\n",
    "import numpy as np\n",
    "## getting utils\n",
    "import sys,inspect\n",
    "currentdir = os.path.dirname(os.path.abspath(inspect.getfile(inspect.currentframe())))\n",
    "parentdir = os.path.dirname(currentdir)\n",
    "sys.path.insert(0,parentdir)\n",
    "import utils\n",
    "from datetime import datetime\n",
    "import networkx as nx\n",
    "from stellargraph import StellarGraph\n",
    "import concurrent.futures\n",
    "\n",
    "import data.data_androguard as data\n",
    "\n",
    "# autoloader stuff\n",
    "%load_ext autoreload\n",
    "%autoreload 2\n",
    "\n"
   ]
  },
  {
   "cell_type": "code",
   "execution_count": 2,
   "metadata": {},
   "outputs": [
    {
     "name": "stdout",
     "output_type": "stream",
     "text": [
      "does file paths exist? Target: True  malware:  True  benign1:  True  benign2:  True\n"
     ]
    }
   ],
   "source": [
    "target = utils.get_to_directory(\"edh021\", [\"DSC180A_FA20_A00\", \"a04malware\", \"personal-group03\", \"benign_graphs\"])\n",
    "malware_directory = utils.get_to_directory(\"edh021\", [\"DSC180A_FA20_A00\", \"a04malware\", \"apks\", \"malware\"])\n",
    "benign1_directory = utils.get_to_directory(\"edh021\", [\"DSC180A_FA20_A00\", \"a04malware\", \"personal-group03\", \"benign_graphs_sab\", \"popular_apks\"])\n",
    "benign2_directory = utils.get_to_directory(\"edh021\", [\"DSC180A_FA20_A00\", \"a04malware\", \"personal-group03\", \"benign_graphs_sab\", \"random_apps\"])\n",
    "\n",
    "\n",
    "\n",
    "\n",
    "\n",
    "print(\"does file paths exist? Target:\", os.path.exists(target), \" malware: \", os.path.exists(malware_directory), \" benign1: \", os.path.exists(benign1_directory), \" benign2: \", os.path.exists(benign2_directory))\n",
    "\n",
    "\n"
   ]
  },
  {
   "cell_type": "code",
   "execution_count": 4,
   "metadata": {},
   "outputs": [
    {
     "name": "stdout",
     "output_type": "stream",
     "text": [
      "346\n",
      "8435\n"
     ]
    },
    {
     "data": {
      "text/html": [
       "<div>\n",
       "<style scoped>\n",
       "    .dataframe tbody tr th:only-of-type {\n",
       "        vertical-align: middle;\n",
       "    }\n",
       "\n",
       "    .dataframe tbody tr th {\n",
       "        vertical-align: top;\n",
       "    }\n",
       "\n",
       "    .dataframe thead th {\n",
       "        text-align: right;\n",
       "    }\n",
       "</style>\n",
       "<table border=\"1\" class=\"dataframe\">\n",
       "  <thead>\n",
       "    <tr style=\"text-align: right;\">\n",
       "      <th></th>\n",
       "      <th>app_fp</th>\n",
       "      <th>app_label</th>\n",
       "      <th>app_ID</th>\n",
       "    </tr>\n",
       "  </thead>\n",
       "  <tbody>\n",
       "    <tr>\n",
       "      <th>0</th>\n",
       "      <td>/home/edh021/DSC180A_FA20_A00/a04malware/perso...</td>\n",
       "      <td>0</td>\n",
       "      <td>0</td>\n",
       "    </tr>\n",
       "    <tr>\n",
       "      <th>1</th>\n",
       "      <td>/home/edh021/DSC180A_FA20_A00/a04malware/perso...</td>\n",
       "      <td>0</td>\n",
       "      <td>1</td>\n",
       "    </tr>\n",
       "    <tr>\n",
       "      <th>2</th>\n",
       "      <td>/home/edh021/DSC180A_FA20_A00/a04malware/perso...</td>\n",
       "      <td>0</td>\n",
       "      <td>2</td>\n",
       "    </tr>\n",
       "    <tr>\n",
       "      <th>3</th>\n",
       "      <td>/home/edh021/DSC180A_FA20_A00/a04malware/perso...</td>\n",
       "      <td>0</td>\n",
       "      <td>3</td>\n",
       "    </tr>\n",
       "    <tr>\n",
       "      <th>4</th>\n",
       "      <td>/home/edh021/DSC180A_FA20_A00/a04malware/perso...</td>\n",
       "      <td>0</td>\n",
       "      <td>4</td>\n",
       "    </tr>\n",
       "  </tbody>\n",
       "</table>\n",
       "</div>"
      ],
      "text/plain": [
       "                                              app_fp  app_label  app_ID\n",
       "0  /home/edh021/DSC180A_FA20_A00/a04malware/perso...          0       0\n",
       "1  /home/edh021/DSC180A_FA20_A00/a04malware/perso...          0       1\n",
       "2  /home/edh021/DSC180A_FA20_A00/a04malware/perso...          0       2\n",
       "3  /home/edh021/DSC180A_FA20_A00/a04malware/perso...          0       3\n",
       "4  /home/edh021/DSC180A_FA20_A00/a04malware/perso...          0       4"
      ]
     },
     "execution_count": 4,
     "metadata": {},
     "output_type": "execute_result"
    }
   ],
   "source": [
    "df = data.train_txt(malware_directory, benign1_directory, benign2_directory, target)\n",
    "df.head()\n",
    "\n"
   ]
  },
  {
   "cell_type": "code",
   "execution_count": 6,
   "metadata": {},
   "outputs": [],
   "source": [
    "filepaths, labels = np.array(list(df.app_fp)), np.array(list(df.app_label))"
   ]
  },
  {
   "cell_type": "code",
   "execution_count": null,
   "metadata": {},
   "outputs": [],
   "source": []
  },
  {
   "cell_type": "code",
   "execution_count": 8,
   "metadata": {},
   "outputs": [
    {
     "data": {
      "text/plain": [
       "0"
      ]
     },
     "execution_count": 8,
     "metadata": {},
     "output_type": "execute_result"
    }
   ],
   "source": [
    "len(filtered_fps)"
   ]
  },
  {
   "cell_type": "code",
   "execution_count": 6,
   "metadata": {},
   "outputs": [
    {
     "data": {
      "text/plain": [
       "['/home/edh021/DSC180A_FA20_A00/a04malware/personal-group03/benign_graphs_sab/popular_apks/games.wfs.anothereden.gml.bz2',\n",
       " '/home/edh021/DSC180A_FA20_A00/a04malware/personal-group03/benign_graphs_sab/popular_apks/com.hutchgames.racingnext.gml.bz2',\n",
       " '/home/edh021/DSC180A_FA20_A00/a04malware/personal-group03/benign_graphs_sab/popular_apks/com.riehacreative.ookujira.gml.bz2',\n",
       " '/home/edh021/DSC180A_FA20_A00/a04malware/personal-group03/benign_graphs_sab/popular_apks/com.sigmateam.zombieshooter.free.gml.bz2',\n",
       " '/home/edh021/DSC180A_FA20_A00/a04malware/personal-group03/benign_graphs_sab/popular_apks/com.tappocket.halloweencity.gml.bz2']"
      ]
     },
     "execution_count": 6,
     "metadata": {},
     "output_type": "execute_result"
    }
   ],
   "source": [
    "filepaths[:5]"
   ]
  },
  {
   "cell_type": "code",
   "execution_count": 9,
   "metadata": {},
   "outputs": [
    {
     "name": "stdout",
     "output_type": "stream",
     "text": [
      "1328\n"
     ]
    }
   ],
   "source": [
    "ct = 0\n",
    "for file in filepaths:\n",
    "    if \"ebf94435705d7ec087428f9aafbf331e\" in file:\n",
    "        print(ct)\n",
    "    else:\n",
    "        ct += 1"
   ]
  },
  {
   "cell_type": "code",
   "execution_count": null,
   "metadata": {},
   "outputs": [
    {
     "name": "stdout",
     "output_type": "stream",
     "text": [
      "/home/edh021/DSC180A_FA20_A00/a04malware/apks/malware/75a14df3a82fcc3c08bd31c701b84d2c.gml.bz2\n",
      "/home/edh021/DSC180A_FA20_A00/a04malware/apks/malware/0277e6d7e797f68d0fbbc77f60f4ad2b.gml.bz2\n",
      "/home/edh021/DSC180A_FA20_A00/a04malware/apks/malware/ebf94435705d7ec087428f9aafbf331e.gml.bz2\n",
      "/home/edh021/DSC180A_FA20_A00/a04malware/apks/malware/340b4442c38ad79174fbbff507ac85f9.gml.bz2\n",
      "/home/edh021/DSC180A_FA20_A00/a04malware/apks/malware/047eabddaa4449a0c599d82ef7916f27.gml.bz2\n",
      "/home/edh021/DSC180A_FA20_A00/a04malware/apks/malware/4c92a343c19e68424e7e0d2a90c3a967.gml.bz2\n",
      "/home/edh021/DSC180A_FA20_A00/a04malware/apks/malware/2ffa94ebb411731375cd810fc52ea7d4.gml.bz2\n",
      "/home/edh021/DSC180A_FA20_A00/a04malware/apks/malware/2f99b7f0eda46116a61e81087ea486f4.gml.bz2\n",
      "/home/edh021/DSC180A_FA20_A00/a04malware/apks/malware/06dcbfa466db71dbf46573b45dec7634.gml.bz2\n",
      "/home/edh021/DSC180A_FA20_A00/a04malware/apks/malware/310ae8e662b8d49877a34e7d7396faa6.gml.bz2\n",
      "/home/edh021/DSC180A_FA20_A00/a04malware/apks/malware/e99dc5d1a4ac40c0a0befeaa4e988d60.gml.bz2\n",
      "/home/edh021/DSC180A_FA20_A00/a04malware/apks/malware/101bda93b50f08fe1bc1518f9f2a3aa2.gml.bz2\n",
      "/home/edh021/DSC180A_FA20_A00/a04malware/apks/malware/efcf559cc0cf8723bddd797c42225c63.gml.bz2\n",
      "/home/edh021/DSC180A_FA20_A00/a04malware/apks/malware/fd6782b94386c19da9ff487d7c89254f.gml.bz2\n",
      "/home/edh021/DSC180A_FA20_A00/a04malware/apks/malware/163d0bcee4518c2f9a12df6ced726531.gml.bz2\n",
      "/home/edh021/DSC180A_FA20_A00/a04malware/apks/malware/22e025cf761f35270c080179a404bb60.gml.bz2\n",
      "/home/edh021/DSC180A_FA20_A00/a04malware/apks/malware/69eb764b9bd97dd4e9bc3d4a460ad194.gml.bz2\n",
      "/home/edh021/DSC180A_FA20_A00/a04malware/apks/malware/85985d65fc6d08e7d59b6609d1541325.gml.bz2\n",
      "/home/edh021/DSC180A_FA20_A00/a04malware/apks/malware/ef78b54096f99b94c0caeb01f65b2dd0.gml.bz2\n",
      "/home/edh021/DSC180A_FA20_A00/a04malware/apks/malware/0c555c9c69a1006a112e23afd0b79c80.gml.bz2\n",
      "/home/edh021/DSC180A_FA20_A00/a04malware/apks/malware/c6e64ab79e016fd0035378aee5f153b2.gml.bz2\n",
      "/home/edh021/DSC180A_FA20_A00/a04malware/apks/malware/57bc4f0cb57dcd05089c15f5c78224a6.gml.bz2\n",
      "/home/edh021/DSC180A_FA20_A00/a04malware/apks/malware/87a6b25d948edc03f7388972131b4de6.gml.bz2\n",
      "/home/edh021/DSC180A_FA20_A00/a04malware/apks/malware/c450d0c63d5ea756c1aba3f9e6e866e3.gml.bz2\n",
      "/home/edh021/DSC180A_FA20_A00/a04malware/apks/malware/e367a806f9226317b194a8febeeee2cd.gml.bz2\n",
      "/home/edh021/DSC180A_FA20_A00/a04malware/apks/malware/40a20f9d5304989bc119f75503224e16.gml.bz2\n",
      "/home/edh021/DSC180A_FA20_A00/a04malware/apks/malware/6b6f5abc9a766ebbf9f2852291d553dc.gml.bz2\n",
      "/home/edh021/DSC180A_FA20_A00/a04malware/apks/malware/2dbf45ab0635e54ee22d63ce55a22a39.gml.bz2\n",
      "/home/edh021/DSC180A_FA20_A00/a04malware/apks/malware/6435ae84fc3d86d405b0bce12c3f9815.gml.bz2\n",
      "/home/edh021/DSC180A_FA20_A00/a04malware/apks/malware/6a27602829f2021e35143db068eddb54.gml.bz2\n",
      "/home/edh021/DSC180A_FA20_A00/a04malware/apks/malware/4aaacd99c778265e8e756548bd452f03.gml.bz2\n",
      "/home/edh021/DSC180A_FA20_A00/a04malware/apks/malware/5c86859ffb25996ed0310404e8deebba.gml.bz2\n",
      "/home/edh021/DSC180A_FA20_A00/a04malware/apks/malware/8dc7c1dd843851b5ae132106ff619668.gml.bz2\n",
      "/home/edh021/DSC180A_FA20_A00/a04malware/apks/malware/dfc3ea43db0376c3582bfc4d851d8b13.gml.bz2\n",
      "/home/edh021/DSC180A_FA20_A00/a04malware/apks/malware/46bab664fceb6689edb1de62634ac4d9.gml.bz2\n",
      "/home/edh021/DSC180A_FA20_A00/a04malware/apks/malware/69ab6b8f9dfe809953933e4f0d067686.gml.bz2\n",
      "/home/edh021/DSC180A_FA20_A00/a04malware/apks/malware/66674d4028ff7132410b51f354872c02.gml.bz2\n",
      "/home/edh021/DSC180A_FA20_A00/a04malware/apks/malware/277775b7107d6bf52849a80259418023.gml.bz2\n",
      "/home/edh021/DSC180A_FA20_A00/a04malware/apks/malware/4f380d5377bf5c1fd985df00c2791db8.gml.bz2\n",
      "/home/edh021/DSC180A_FA20_A00/a04malware/apks/malware/8349b4316b8728a57f7d9d3e06c2e994.gml.bz2\n",
      "/home/edh021/DSC180A_FA20_A00/a04malware/apks/malware/81374ae6c76a7ff8d9e5b9698a16865d.gml.bz2\n",
      "/home/edh021/DSC180A_FA20_A00/a04malware/apks/malware/173f02a30c51610c009a0a72351137bc.gml.bz2\n",
      "/home/edh021/DSC180A_FA20_A00/a04malware/apks/malware/3538013b5981dfb603812347064ddfcc.gml.bz2\n",
      "/home/edh021/DSC180A_FA20_A00/a04malware/apks/malware/9d318d6da5575f3c628c2b689525d226.gml.bz2\n",
      "/home/edh021/DSC180A_FA20_A00/a04malware/apks/malware/ba31b9ca91a4eb873e019affc72c1a95.gml.bz2\n",
      "/home/edh021/DSC180A_FA20_A00/a04malware/apks/malware/e792aec4a546ddb92549f303f3b9af02.gml.bz2\n",
      "/home/edh021/DSC180A_FA20_A00/a04malware/apks/malware/fb067e1c23825dc4fced093efc3f2206.gml.bz2\n",
      "/home/edh021/DSC180A_FA20_A00/a04malware/apks/malware/7db5c9f021fb61a8f2a4f5714a103e07.gml.bz2\n",
      "/home/edh021/DSC180A_FA20_A00/a04malware/apks/malware/2785bfb76e037af8c76fc956361d230a.gml.bz2\n",
      "/home/edh021/DSC180A_FA20_A00/a04malware/apks/malware/b464c6b777be62b9df3f4f77f788a3d9.gml.bz2\n",
      "/home/edh021/DSC180A_FA20_A00/a04malware/apks/malware/164a9e8d668c59a869b971eab0d00e9c.gml.bz2\n",
      "/home/edh021/DSC180A_FA20_A00/a04malware/apks/malware/c1f45859eea0b4a9d72ee6e7e10edd24.gml.bz2\n",
      "/home/edh021/DSC180A_FA20_A00/a04malware/apks/malware/012631f11dd3068a65a72bc1a772ed4d.gml.bz2\n",
      "/home/edh021/DSC180A_FA20_A00/a04malware/apks/malware/7e8e2fd072c4b64f891974636792520e.gml.bz2\n",
      "/home/edh021/DSC180A_FA20_A00/a04malware/apks/malware/608e03402895568d1e294b266c29588a.gml.bz2\n",
      "/home/edh021/DSC180A_FA20_A00/a04malware/apks/malware/388f93d7b27db9552b6de4dba7746e99.gml.bz2\n",
      "/home/edh021/DSC180A_FA20_A00/a04malware/apks/malware/93bd2afeb2026e53ca3e5b89e00ded95.gml.bz2\n",
      "/home/edh021/DSC180A_FA20_A00/a04malware/apks/malware/c45e781ad94d1b66dd5e58c61aa21947.gml.bz2\n",
      "/home/edh021/DSC180A_FA20_A00/a04malware/apks/malware/d0279faa7d4212c62bd6427792775fbb.gml.bz2\n",
      "/home/edh021/DSC180A_FA20_A00/a04malware/apks/malware/4dc6907f92cf071c56918e4ebc55d107.gml.bz2\n",
      "/home/edh021/DSC180A_FA20_A00/a04malware/apks/malware/ea21a760e65059d46a31f956a9480560.gml.bz2\n",
      "/home/edh021/DSC180A_FA20_A00/a04malware/apks/malware/b46b95ff964e5d35c6d719be3e795fa3.gml.bz2\n",
      "/home/edh021/DSC180A_FA20_A00/a04malware/apks/malware/771914078eea90b45d89286708bc47ae.gml.bz2\n",
      "/home/edh021/DSC180A_FA20_A00/a04malware/apks/malware/50946557491d803b9bb92186462d8da5.gml.bz2\n",
      "/home/edh021/DSC180A_FA20_A00/a04malware/apks/malware/36ed7e488a58b86e49f8cab90293d2e8.gml.bz2\n",
      "/home/edh021/DSC180A_FA20_A00/a04malware/apks/malware/594f6e63826ac74564e0a417fcfddc89.gml.bz2\n",
      "/home/edh021/DSC180A_FA20_A00/a04malware/apks/malware/1afb7111ef7d562e6b024afd265b299d.gml.bz2\n",
      "/home/edh021/DSC180A_FA20_A00/a04malware/apks/malware/53937181700fef73a61c7754b0374167.gml.bz2\n",
      "/home/edh021/DSC180A_FA20_A00/a04malware/apks/malware/9c3a68411202ec6ccd5461db604cd7ed.gml.bz2\n",
      "/home/edh021/DSC180A_FA20_A00/a04malware/apks/malware/b8afd4762e70e92d824227b63d70b513.gml.bz2\n",
      "/home/edh021/DSC180A_FA20_A00/a04malware/apks/malware/125171e8ac71d9676de76cbe47d8da5a.gml.bz2\n",
      "/home/edh021/DSC180A_FA20_A00/a04malware/apks/malware/461ca33d4241057c6673dd94f194720f.gml.bz2\n",
      "/home/edh021/DSC180A_FA20_A00/a04malware/apks/malware/b38eff9b8cefd8a0c802e5b5550e118e.gml.bz2\n",
      "/home/edh021/DSC180A_FA20_A00/a04malware/apks/malware/5f3740c386913e4e7992fbd90bcc00bc.gml.bz2\n",
      "/home/edh021/DSC180A_FA20_A00/a04malware/apks/malware/e8ba8834860d6d3f44bb2b2b8d2e2c15.gml.bz2\n",
      "/home/edh021/DSC180A_FA20_A00/a04malware/apks/malware/48aed8a2f6434e868992eced74264338.gml.bz2\n",
      "/home/edh021/DSC180A_FA20_A00/a04malware/apks/malware/803dc7ac2f162c5f0022ee6520ae3792.gml.bz2\n",
      "/home/edh021/DSC180A_FA20_A00/a04malware/apks/malware/a104d231fea4793c0a2330d4ec7ccb4a.gml.bz2\n",
      "/home/edh021/DSC180A_FA20_A00/a04malware/apks/malware/64446527afb81f74657d1798acbcc86c.gml.bz2\n",
      "/home/edh021/DSC180A_FA20_A00/a04malware/apks/malware/22a8353eef7f45cde90d4f9e8a4c876c.gml.bz2\n",
      "/home/edh021/DSC180A_FA20_A00/a04malware/apks/malware/c339b95f0e81b1341149aa79cbf1063e.gml.bz2\n",
      "/home/edh021/DSC180A_FA20_A00/a04malware/apks/malware/6bf04051084a7fd2022d43900322e187.gml.bz2\n",
      "/home/edh021/DSC180A_FA20_A00/a04malware/apks/malware/d88069146b1f2fdc50f76a67fb0b8cca.gml.bz2\n",
      "/home/edh021/DSC180A_FA20_A00/a04malware/apks/malware/0c5a2108feea6806b84744ed90ddbffe.gml.bz2\n",
      "/home/edh021/DSC180A_FA20_A00/a04malware/apks/malware/980f4170a9be5c9427944f0becadfd4f.gml.bz2\n",
      "/home/edh021/DSC180A_FA20_A00/a04malware/apks/malware/6d17401e20dbdc5ccad56c13784c0d66.gml.bz2\n",
      "/home/edh021/DSC180A_FA20_A00/a04malware/apks/malware/3ab3ed4a4035777158fef1f4e2b44219.gml.bz2\n",
      "/home/edh021/DSC180A_FA20_A00/a04malware/apks/malware/c6740aed9ee3a5e11dc70e4039e12a05.gml.bz2\n",
      "/home/edh021/DSC180A_FA20_A00/a04malware/apks/malware/5339cb45e9a83d8b542f548ec5b962ab.gml.bz2\n",
      "/home/edh021/DSC180A_FA20_A00/a04malware/apks/malware/7d20c809d2b80caf1b8fc1bd48593c5e.gml.bz2\n",
      "/home/edh021/DSC180A_FA20_A00/a04malware/apks/malware/c587e4ff2067f210acb11eb3a0aa0033.gml.bz2\n",
      "/home/edh021/DSC180A_FA20_A00/a04malware/apks/malware/6d15023dc23d935bbcb8490b08e74053.gml.bz2\n",
      "/home/edh021/DSC180A_FA20_A00/a04malware/apks/malware/e9ade5e847adea8ff1b30c1eba080f43.gml.bz2\n",
      "/home/edh021/DSC180A_FA20_A00/a04malware/apks/malware/b8b791c409d66018e315e49393e4c602.gml.bz2\n",
      "/home/edh021/DSC180A_FA20_A00/a04malware/apks/malware/256a51adcbff9ae63a29d9871b3a1600.gml.bz2\n",
      "/home/edh021/DSC180A_FA20_A00/a04malware/apks/malware/1ad85cd736f9256f3cfba744c46e5f7d.gml.bz2\n",
      "/home/edh021/DSC180A_FA20_A00/a04malware/apks/malware/fe355f79d1b1c5cd1749ec57fbc1933a.gml.bz2\n",
      "/home/edh021/DSC180A_FA20_A00/a04malware/apks/malware/07fde5c0ab7c77b9e122db455e01fc75.gml.bz2\n",
      "/home/edh021/DSC180A_FA20_A00/a04malware/apks/malware/77f20f42ca27e68ce12c763e8ae8af21.gml.bz2\n",
      "/home/edh021/DSC180A_FA20_A00/a04malware/apks/malware/994c54da18135894351af3c2db2a7fc7.gml.bz2\n",
      "/home/edh021/DSC180A_FA20_A00/a04malware/apks/malware/c644759cc879fa1faaf0a66765a6f113.gml.bz2\n",
      "/home/edh021/DSC180A_FA20_A00/a04malware/apks/malware/e8091dd906b612d53906cc31f5da35fa.gml.bz2\n",
      "/home/edh021/DSC180A_FA20_A00/a04malware/apks/malware/126c289d321123eafc40f0a3157c059d.gml.bz2\n",
      "/home/edh021/DSC180A_FA20_A00/a04malware/apks/malware/f3ce1466d22ce84baa255a26b8db0f6d.gml.bz2\n",
      "/home/edh021/DSC180A_FA20_A00/a04malware/apks/malware/7c07c00c86486b160562b73b2a7be2cc.gml.bz2\n",
      "/home/edh021/DSC180A_FA20_A00/a04malware/apks/malware/c127cd84905be4411c209194063b8dd4.gml.bz2\n",
      "/home/edh021/DSC180A_FA20_A00/a04malware/apks/malware/db97d62f4c1b8d176a363bc07bcf4d0c.gml.bz2\n",
      "/home/edh021/DSC180A_FA20_A00/a04malware/apks/malware/9c2291b03bfe0aeee00dde88913b9068.gml.bz2\n",
      "/home/edh021/DSC180A_FA20_A00/a04malware/apks/malware/ccecb225645a53f8f95ed15a8d7524fb.gml.bz2\n",
      "/home/edh021/DSC180A_FA20_A00/a04malware/apks/malware/718bb1794e9c5f91b5a2df999fe2ce46.gml.bz2\n",
      "/home/edh021/DSC180A_FA20_A00/a04malware/apks/malware/d71be7e2bc61a668732169ad53d9c1ac.gml.bz2\n",
      "/home/edh021/DSC180A_FA20_A00/a04malware/apks/malware/dd19549b464ce55b905f9a38b92f7767.gml.bz2\n",
      "/home/edh021/DSC180A_FA20_A00/a04malware/apks/malware/0f548a4d91d01c0152d1de0eadcc9067.gml.bz2\n",
      "/home/edh021/DSC180A_FA20_A00/a04malware/apks/malware/a9e5b325bbd8402189c6138d1bb94b3c.gml.bz2\n",
      "/home/edh021/DSC180A_FA20_A00/a04malware/apks/malware/57fcda2d16eebd565bd8b9ea9f3382c7.gml.bz2"
     ]
    }
   ],
   "source": [
    "from datetime import datetime\n",
    "\n",
    "now = datetime.now()\n",
    "out = andro_analysis.process(filtered_fps)\n",
    "print(\"time took to go through every file: \", (datetime.now() - now))"
   ]
  },
  {
   "cell_type": "code",
   "execution_count": 4,
   "metadata": {},
   "outputs": [],
   "source": [
    "target = utils.get_to_directory(\"edh021\", [\"dsc180b-malware\", \"dsc180b-malware\", \"src\", \"analysis\", \"features\", \"eda_output\"])\n"
   ]
  },
  {
   "cell_type": "code",
   "execution_count": 10,
   "metadata": {},
   "outputs": [
    {
     "data": {
      "text/plain": [
       "'nebulaxgames.zombiewatch.gml.bz2.txt'"
      ]
     },
     "execution_count": 10,
     "metadata": {},
     "output_type": "execute_result"
    }
   ],
   "source": [
    "os.listdir(target)[0]"
   ]
  },
  {
   "cell_type": "code",
   "execution_count": 43,
   "metadata": {},
   "outputs": [],
   "source": [
    "columns = [\"app\", \"node_types\", \"edge_types\", \"number_nodes\", \"number_edges\", \"label\"]\n",
    "df= pd.DataFrame(columns = columns)\n",
    "ct = 0 \n",
    "\n",
    "for fp in os.listdir(target):\n",
    "    if \".txt\" in fp:\n",
    "        built = os.path.join(target, fp)\n",
    "        with open(built, \"r\") as file:\n",
    "            line = file.read().replace(\"\\n\", \"\")\n",
    "            line = line.split(\",\")\n",
    "            data = {}\n",
    "            if (len(line) == len(columns)):\n",
    "                for col in range(len(columns)):\n",
    "                    \n",
    "                    data[columns[col]] = line[col]\n",
    "\n",
    "                df = df.append(data, ignore_index = True)\n",
    "            else:\n",
    "                continue\n",
    "        \n"
   ]
  },
  {
   "cell_type": "code",
   "execution_count": 45,
   "metadata": {},
   "outputs": [],
   "source": [
    "df.to_csv(\"eda.csv\")"
   ]
  },
  {
   "cell_type": "code",
   "execution_count": 46,
   "metadata": {},
   "outputs": [
    {
     "data": {
      "text/plain": [
       "['/home/edh021/DSC180A_FA20_A00/a04malware/apks/malware/2951a5b3dc0059d2808c89638fae78c0.gml.bz2',\n",
       " '5',\n",
       " '1',\n",
       " '319',\n",
       " '937',\n",
       " '1']"
      ]
     },
     "execution_count": 46,
     "metadata": {},
     "output_type": "execute_result"
    }
   ],
   "source": [
    "line"
   ]
  },
  {
   "cell_type": "code",
   "execution_count": 40,
   "metadata": {},
   "outputs": [
    {
     "ename": "ValueError",
     "evalue": "I/O operation on closed file.",
     "output_type": "error",
     "traceback": [
      "\u001b[0;31m\u001b[0m",
      "\u001b[0;31mValueError\u001b[0mTraceback (most recent call last)",
      "\u001b[0;32m<ipython-input-40-f3fc120c03c1>\u001b[0m in \u001b[0;36m<module>\u001b[0;34m\u001b[0m\n\u001b[0;32m----> 1\u001b[0;31m \u001b[0mfile\u001b[0m\u001b[0;34m.\u001b[0m\u001b[0mread\u001b[0m\u001b[0;34m(\u001b[0m\u001b[0;34m)\u001b[0m\u001b[0;34m\u001b[0m\u001b[0;34m\u001b[0m\u001b[0m\n\u001b[0m",
      "\u001b[0;31mValueError\u001b[0m: I/O operation on closed file."
     ]
    }
   ],
   "source": [
    "file.read()"
   ]
  },
  {
   "cell_type": "code",
   "execution_count": 50,
   "metadata": {},
   "outputs": [
    {
     "data": {
      "text/html": [
       "<div>\n",
       "<style scoped>\n",
       "    .dataframe tbody tr th:only-of-type {\n",
       "        vertical-align: middle;\n",
       "    }\n",
       "\n",
       "    .dataframe tbody tr th {\n",
       "        vertical-align: top;\n",
       "    }\n",
       "\n",
       "    .dataframe thead th {\n",
       "        text-align: right;\n",
       "    }\n",
       "</style>\n",
       "<table border=\"1\" class=\"dataframe\">\n",
       "  <thead>\n",
       "    <tr style=\"text-align: right;\">\n",
       "      <th></th>\n",
       "      <th>Unnamed: 0</th>\n",
       "      <th>app</th>\n",
       "      <th>node_types</th>\n",
       "      <th>edge_types</th>\n",
       "      <th>number_nodes</th>\n",
       "      <th>number_edges</th>\n",
       "      <th>label</th>\n",
       "    </tr>\n",
       "  </thead>\n",
       "  <tbody>\n",
       "    <tr>\n",
       "      <th>0</th>\n",
       "      <td>0</td>\n",
       "      <td>/home/edh021/DSC180A_FA20_A00/a04malware/perso...</td>\n",
       "      <td>0</td>\n",
       "      <td>0</td>\n",
       "      <td>0</td>\n",
       "      <td>0</td>\n",
       "      <td>0</td>\n",
       "    </tr>\n",
       "    <tr>\n",
       "      <th>1</th>\n",
       "      <td>1</td>\n",
       "      <td>/home/edh021/DSC180A_FA20_A00/a04malware/apks/...</td>\n",
       "      <td>4</td>\n",
       "      <td>1</td>\n",
       "      <td>255</td>\n",
       "      <td>551</td>\n",
       "      <td>1</td>\n",
       "    </tr>\n",
       "    <tr>\n",
       "      <th>2</th>\n",
       "      <td>2</td>\n",
       "      <td>/home/edh021/DSC180A_FA20_A00/a04malware/apks/...</td>\n",
       "      <td>5</td>\n",
       "      <td>1</td>\n",
       "      <td>3851</td>\n",
       "      <td>8095</td>\n",
       "      <td>1</td>\n",
       "    </tr>\n",
       "    <tr>\n",
       "      <th>3</th>\n",
       "      <td>3</td>\n",
       "      <td>/home/edh021/DSC180A_FA20_A00/a04malware/apks/...</td>\n",
       "      <td>5</td>\n",
       "      <td>1</td>\n",
       "      <td>4310</td>\n",
       "      <td>8934</td>\n",
       "      <td>1</td>\n",
       "    </tr>\n",
       "    <tr>\n",
       "      <th>4</th>\n",
       "      <td>4</td>\n",
       "      <td>/home/edh021/DSC180A_FA20_A00/a04malware/apks/...</td>\n",
       "      <td>5</td>\n",
       "      <td>1</td>\n",
       "      <td>2501</td>\n",
       "      <td>7137</td>\n",
       "      <td>1</td>\n",
       "    </tr>\n",
       "    <tr>\n",
       "      <th>...</th>\n",
       "      <td>...</td>\n",
       "      <td>...</td>\n",
       "      <td>...</td>\n",
       "      <td>...</td>\n",
       "      <td>...</td>\n",
       "      <td>...</td>\n",
       "      <td>...</td>\n",
       "    </tr>\n",
       "    <tr>\n",
       "      <th>1781</th>\n",
       "      <td>1781</td>\n",
       "      <td>/home/edh021/DSC180A_FA20_A00/a04malware/apks/...</td>\n",
       "      <td>5</td>\n",
       "      <td>1</td>\n",
       "      <td>2981</td>\n",
       "      <td>10776</td>\n",
       "      <td>1</td>\n",
       "    </tr>\n",
       "    <tr>\n",
       "      <th>1782</th>\n",
       "      <td>1782</td>\n",
       "      <td>/home/edh021/DSC180A_FA20_A00/a04malware/apks/...</td>\n",
       "      <td>6</td>\n",
       "      <td>1</td>\n",
       "      <td>1400</td>\n",
       "      <td>4595</td>\n",
       "      <td>1</td>\n",
       "    </tr>\n",
       "    <tr>\n",
       "      <th>1783</th>\n",
       "      <td>1783</td>\n",
       "      <td>/home/edh021/DSC180A_FA20_A00/a04malware/apks/...</td>\n",
       "      <td>6</td>\n",
       "      <td>1</td>\n",
       "      <td>3849</td>\n",
       "      <td>13558</td>\n",
       "      <td>1</td>\n",
       "    </tr>\n",
       "    <tr>\n",
       "      <th>1784</th>\n",
       "      <td>1784</td>\n",
       "      <td>/home/edh021/DSC180A_FA20_A00/a04malware/apks/...</td>\n",
       "      <td>5</td>\n",
       "      <td>1</td>\n",
       "      <td>579</td>\n",
       "      <td>1859</td>\n",
       "      <td>1</td>\n",
       "    </tr>\n",
       "    <tr>\n",
       "      <th>1785</th>\n",
       "      <td>1785</td>\n",
       "      <td>/home/edh021/DSC180A_FA20_A00/a04malware/apks/...</td>\n",
       "      <td>5</td>\n",
       "      <td>1</td>\n",
       "      <td>319</td>\n",
       "      <td>937</td>\n",
       "      <td>1</td>\n",
       "    </tr>\n",
       "  </tbody>\n",
       "</table>\n",
       "<p>1786 rows × 7 columns</p>\n",
       "</div>"
      ],
      "text/plain": [
       "      Unnamed: 0                                                app  \\\n",
       "0              0  /home/edh021/DSC180A_FA20_A00/a04malware/perso...   \n",
       "1              1  /home/edh021/DSC180A_FA20_A00/a04malware/apks/...   \n",
       "2              2  /home/edh021/DSC180A_FA20_A00/a04malware/apks/...   \n",
       "3              3  /home/edh021/DSC180A_FA20_A00/a04malware/apks/...   \n",
       "4              4  /home/edh021/DSC180A_FA20_A00/a04malware/apks/...   \n",
       "...          ...                                                ...   \n",
       "1781        1781  /home/edh021/DSC180A_FA20_A00/a04malware/apks/...   \n",
       "1782        1782  /home/edh021/DSC180A_FA20_A00/a04malware/apks/...   \n",
       "1783        1783  /home/edh021/DSC180A_FA20_A00/a04malware/apks/...   \n",
       "1784        1784  /home/edh021/DSC180A_FA20_A00/a04malware/apks/...   \n",
       "1785        1785  /home/edh021/DSC180A_FA20_A00/a04malware/apks/...   \n",
       "\n",
       "      node_types  edge_types  number_nodes  number_edges  label  \n",
       "0              0           0             0             0      0  \n",
       "1              4           1           255           551      1  \n",
       "2              5           1          3851          8095      1  \n",
       "3              5           1          4310          8934      1  \n",
       "4              5           1          2501          7137      1  \n",
       "...          ...         ...           ...           ...    ...  \n",
       "1781           5           1          2981         10776      1  \n",
       "1782           6           1          1400          4595      1  \n",
       "1783           6           1          3849         13558      1  \n",
       "1784           5           1           579          1859      1  \n",
       "1785           5           1           319           937      1  \n",
       "\n",
       "[1786 rows x 7 columns]"
      ]
     },
     "execution_count": 50,
     "metadata": {},
     "output_type": "execute_result"
    }
   ],
   "source": [
    "pd.read_csv(\"eda.csv\")"
   ]
  },
  {
   "cell_type": "code",
   "execution_count": null,
   "metadata": {},
   "outputs": [],
   "source": []
  }
 ],
 "metadata": {
  "kernelspec": {
   "display_name": "Python 3",
   "language": "python",
   "name": "python3"
  },
  "language_info": {
   "codemirror_mode": {
    "name": "ipython",
    "version": 3
   },
   "file_extension": ".py",
   "mimetype": "text/x-python",
   "name": "python",
   "nbconvert_exporter": "python",
   "pygments_lexer": "ipython3",
   "version": "3.7.6"
  }
 },
 "nbformat": 4,
 "nbformat_minor": 4
}
