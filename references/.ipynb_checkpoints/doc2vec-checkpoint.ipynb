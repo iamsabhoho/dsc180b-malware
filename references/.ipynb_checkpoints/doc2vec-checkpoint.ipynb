{
 "cells": [
  {
   "cell_type": "code",
   "execution_count": 20,
   "metadata": {},
   "outputs": [],
   "source": [
    "from gensim.models import Doc2Vec\n",
    "import numpy as np \n",
    "import pandas as pd\n",
    "import os\n",
    "\n",
    "import sys,inspect\n",
    "currentdir = os.path.dirname(os.path.abspath(inspect.getfile(inspect.currentframe())))\n",
    "parentdir = os.path.dirname(currentdir)\n",
    "sys.path.insert(0,parentdir)\n",
    "import utils\n",
    "from model import model as md\n",
    "\n",
    "# autoloader stuff\n",
    "%load_ext autoreload\n",
    "%autoreload 2"
   ]
  },
  {
   "cell_type": "code",
   "execution_count": 7,
   "metadata": {},
   "outputs": [],
   "source": [
    "modelFP = \"/teams/DSC180A_FA20_A00/a04malware/personal-group03/models/trained_doc2vec.model\"\n",
    "\n",
    "model = Doc2Vec.load(modelFP)"
   ]
  },
  {
   "cell_type": "code",
   "execution_count": 13,
   "metadata": {},
   "outputs": [],
   "source": [
    "\n",
    "yFP = \"/teams/DSC180A_FA20_A00/a04malware/personal-group03/models/doc2vecy.txt\"\n",
    "\n",
    "X = [model.docvecs[i] for i in range(len(model.docvecs))]\n",
    "y = np.loadtxt(yFP)"
   ]
  },
  {
   "cell_type": "code",
   "execution_count": 24,
   "metadata": {},
   "outputs": [
    {
     "name": "stdout",
     "output_type": "stream",
     "text": [
      "For the Random Forest Classifier: \n",
      "\n",
      "F1 score for this classifier:  0.9886051080550097\n",
      "\n",
      "\n",
      "From the confusion matrix: \n",
      "    True Negatives =  72 \n",
      "     False Positives =  20 \n",
      "     False Negatives  9 \n",
      "     True Positives 1258\n",
      "\n",
      "\n",
      "\n",
      "For the 1-NN Classifier: \n",
      "\n",
      "F1 score for this classifier:  0.9873717442778216\n",
      "\n",
      "\n",
      "From the confusion matrix: \n",
      "    True Negatives =  76 \n",
      "     False Positives =  16 \n",
      "     False Negatives  16 \n",
      "     True Positives 1251\n",
      "\n",
      "\n",
      "\n",
      "For the 3-NN Classifier: \n",
      "\n",
      "F1 score for this classifier:  0.9894076108277756\n",
      "\n",
      "\n",
      "From the confusion matrix: \n",
      "    True Negatives =  71 \n",
      "     False Positives =  21 \n",
      "     False Negatives  6 \n",
      "     True Positives 1261\n"
     ]
    }
   ],
   "source": [
    "md.actuals(X, y, \"/teams/DSC180A_FA20_A00/a04malware/personal-group03/models/results\")"
   ]
  },
  {
   "cell_type": "code",
   "execution_count": null,
   "metadata": {},
   "outputs": [],
   "source": []
  }
 ],
 "metadata": {
  "kernelspec": {
   "display_name": "Python 3",
   "language": "python",
   "name": "python3"
  },
  "language_info": {
   "codemirror_mode": {
    "name": "ipython",
    "version": 3
   },
   "file_extension": ".py",
   "mimetype": "text/x-python",
   "name": "python",
   "nbconvert_exporter": "python",
   "pygments_lexer": "ipython3",
   "version": "3.7.6"
  }
 },
 "nbformat": 4,
 "nbformat_minor": 4
}
